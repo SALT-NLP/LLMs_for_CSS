{
 "cells": [
  {
   "cell_type": "code",
   "execution_count": 1,
   "metadata": {},
   "outputs": [],
   "source": [
    "from convokit import Corpus, download"
   ]
  },
  {
   "cell_type": "code",
   "execution_count": 2,
   "metadata": {},
   "outputs": [
    {
     "name": "stdout",
     "output_type": "stream",
     "text": [
      "Downloading conversations-gone-awry-corpus to /Users/chen/.convokit/downloads/conversations-gone-awry-corpus\n",
      "Downloading conversations-gone-awry-corpus from http://zissou.infosci.cornell.edu/convokit/datasets/conversations-gone-awry-corpus/conversations-gone-awry-corpus.zip (45.2MB)... Done\n"
     ]
    }
   ],
   "source": [
    "corpus = Corpus(filename=download(\"conversations-gone-awry-corpus\"))"
   ]
  },
  {
   "cell_type": "code",
   "execution_count": 3,
   "metadata": {},
   "outputs": [
    {
     "name": "stdout",
     "output_type": "stream",
     "text": [
      "Number of Speakers: 8069\n",
      "Number of Utterances: 30021\n",
      "Number of Conversations: 4188\n"
     ]
    }
   ],
   "source": [
    "corpus.print_summary_stats()"
   ]
  },
  {
   "cell_type": "code",
   "execution_count": 5,
   "metadata": {},
   "outputs": [
    {
     "data": {
      "text/html": [
       "<div>\n",
       "<style scoped>\n",
       "    .dataframe tbody tr th:only-of-type {\n",
       "        vertical-align: middle;\n",
       "    }\n",
       "\n",
       "    .dataframe tbody tr th {\n",
       "        vertical-align: top;\n",
       "    }\n",
       "\n",
       "    .dataframe thead th {\n",
       "        text-align: right;\n",
       "    }\n",
       "</style>\n",
       "<table border=\"1\" class=\"dataframe\">\n",
       "  <thead>\n",
       "    <tr style=\"text-align: right;\">\n",
       "      <th></th>\n",
       "      <th>vectors</th>\n",
       "      <th>meta.page_title</th>\n",
       "      <th>meta.page_id</th>\n",
       "      <th>meta.pair_id</th>\n",
       "      <th>meta.conversation_has_personal_attack</th>\n",
       "      <th>meta.verified</th>\n",
       "      <th>meta.pair_verified</th>\n",
       "      <th>meta.annotation_year</th>\n",
       "      <th>meta.split</th>\n",
       "    </tr>\n",
       "    <tr>\n",
       "      <th>id</th>\n",
       "      <th></th>\n",
       "      <th></th>\n",
       "      <th></th>\n",
       "      <th></th>\n",
       "      <th></th>\n",
       "      <th></th>\n",
       "      <th></th>\n",
       "      <th></th>\n",
       "      <th></th>\n",
       "    </tr>\n",
       "  </thead>\n",
       "  <tbody>\n",
       "    <tr>\n",
       "      <th>146743638.12652.12652</th>\n",
       "      <td>[]</td>\n",
       "      <td>User talk:2005</td>\n",
       "      <td>1003212</td>\n",
       "      <td>143890867.11926.11926</td>\n",
       "      <td>False</td>\n",
       "      <td>True</td>\n",
       "      <td>True</td>\n",
       "      <td>2018</td>\n",
       "      <td>train</td>\n",
       "    </tr>\n",
       "    <tr>\n",
       "      <th>143890867.11926.11926</th>\n",
       "      <td>[]</td>\n",
       "      <td>User talk:2005</td>\n",
       "      <td>1003212</td>\n",
       "      <td>146743638.12652.12652</td>\n",
       "      <td>True</td>\n",
       "      <td>True</td>\n",
       "      <td>True</td>\n",
       "      <td>2018</td>\n",
       "      <td>train</td>\n",
       "    </tr>\n",
       "    <tr>\n",
       "      <th>127296808.516.516</th>\n",
       "      <td>[]</td>\n",
       "      <td>User talk:Billzilla</td>\n",
       "      <td>10051321</td>\n",
       "      <td>144643838.1236.1236</td>\n",
       "      <td>False</td>\n",
       "      <td>True</td>\n",
       "      <td>True</td>\n",
       "      <td>2018</td>\n",
       "      <td>train</td>\n",
       "    </tr>\n",
       "    <tr>\n",
       "      <th>144643838.1236.1236</th>\n",
       "      <td>[]</td>\n",
       "      <td>User talk:Billzilla</td>\n",
       "      <td>10051321</td>\n",
       "      <td>127296808.516.516</td>\n",
       "      <td>True</td>\n",
       "      <td>True</td>\n",
       "      <td>True</td>\n",
       "      <td>2018</td>\n",
       "      <td>train</td>\n",
       "    </tr>\n",
       "    <tr>\n",
       "      <th>66813686.23567.23567</th>\n",
       "      <td>[]</td>\n",
       "      <td>Talk:Niger uranium forgeries</td>\n",
       "      <td>1005730</td>\n",
       "      <td>68000691.25417.25417</td>\n",
       "      <td>False</td>\n",
       "      <td>True</td>\n",
       "      <td>True</td>\n",
       "      <td>2018</td>\n",
       "      <td>train</td>\n",
       "    </tr>\n",
       "    <tr>\n",
       "      <th>...</th>\n",
       "      <td>...</td>\n",
       "      <td>...</td>\n",
       "      <td>...</td>\n",
       "      <td>...</td>\n",
       "      <td>...</td>\n",
       "      <td>...</td>\n",
       "      <td>...</td>\n",
       "      <td>...</td>\n",
       "      <td>...</td>\n",
       "    </tr>\n",
       "    <tr>\n",
       "      <th>16774729.0.0</th>\n",
       "      <td>[]</td>\n",
       "      <td>Talk:Credit union</td>\n",
       "      <td>991458</td>\n",
       "      <td>57210701.12247.12247</td>\n",
       "      <td>False</td>\n",
       "      <td>False</td>\n",
       "      <td>False</td>\n",
       "      <td>2019</td>\n",
       "      <td>train</td>\n",
       "    </tr>\n",
       "    <tr>\n",
       "      <th>462206585.21475.21475</th>\n",
       "      <td>[]</td>\n",
       "      <td>Talk:Debito Arudou</td>\n",
       "      <td>993606</td>\n",
       "      <td>426136415.11555.11555</td>\n",
       "      <td>True</td>\n",
       "      <td>False</td>\n",
       "      <td>False</td>\n",
       "      <td>2019</td>\n",
       "      <td>train</td>\n",
       "    </tr>\n",
       "    <tr>\n",
       "      <th>426136415.11555.11555</th>\n",
       "      <td>[]</td>\n",
       "      <td>Talk:Debito Arudou</td>\n",
       "      <td>993606</td>\n",
       "      <td>462206585.21475.21475</td>\n",
       "      <td>False</td>\n",
       "      <td>False</td>\n",
       "      <td>False</td>\n",
       "      <td>2019</td>\n",
       "      <td>train</td>\n",
       "    </tr>\n",
       "    <tr>\n",
       "      <th>136580720.181876.181876</th>\n",
       "      <td>[]</td>\n",
       "      <td>Talk:The Great Global Warming Swindle</td>\n",
       "      <td>9951062</td>\n",
       "      <td>132829693.152766.152766</td>\n",
       "      <td>True</td>\n",
       "      <td>False</td>\n",
       "      <td>False</td>\n",
       "      <td>2019</td>\n",
       "      <td>test</td>\n",
       "    </tr>\n",
       "    <tr>\n",
       "      <th>132829693.152766.152766</th>\n",
       "      <td>[]</td>\n",
       "      <td>Talk:The Great Global Warming Swindle</td>\n",
       "      <td>9951062</td>\n",
       "      <td>136580720.181876.181876</td>\n",
       "      <td>False</td>\n",
       "      <td>False</td>\n",
       "      <td>False</td>\n",
       "      <td>2019</td>\n",
       "      <td>test</td>\n",
       "    </tr>\n",
       "  </tbody>\n",
       "</table>\n",
       "<p>4188 rows × 9 columns</p>\n",
       "</div>"
      ],
      "text/plain": [
       "                        vectors                        meta.page_title  \\\n",
       "id                                                                       \n",
       "146743638.12652.12652        []                         User talk:2005   \n",
       "143890867.11926.11926        []                         User talk:2005   \n",
       "127296808.516.516            []                    User talk:Billzilla   \n",
       "144643838.1236.1236          []                    User talk:Billzilla   \n",
       "66813686.23567.23567         []           Talk:Niger uranium forgeries   \n",
       "...                         ...                                    ...   \n",
       "16774729.0.0                 []                      Talk:Credit union   \n",
       "462206585.21475.21475        []                     Talk:Debito Arudou   \n",
       "426136415.11555.11555        []                     Talk:Debito Arudou   \n",
       "136580720.181876.181876      []  Talk:The Great Global Warming Swindle   \n",
       "132829693.152766.152766      []  Talk:The Great Global Warming Swindle   \n",
       "\n",
       "                        meta.page_id             meta.pair_id  \\\n",
       "id                                                              \n",
       "146743638.12652.12652        1003212    143890867.11926.11926   \n",
       "143890867.11926.11926        1003212    146743638.12652.12652   \n",
       "127296808.516.516           10051321      144643838.1236.1236   \n",
       "144643838.1236.1236         10051321        127296808.516.516   \n",
       "66813686.23567.23567         1005730     68000691.25417.25417   \n",
       "...                              ...                      ...   \n",
       "16774729.0.0                  991458     57210701.12247.12247   \n",
       "462206585.21475.21475         993606    426136415.11555.11555   \n",
       "426136415.11555.11555         993606    462206585.21475.21475   \n",
       "136580720.181876.181876      9951062  132829693.152766.152766   \n",
       "132829693.152766.152766      9951062  136580720.181876.181876   \n",
       "\n",
       "                        meta.conversation_has_personal_attack meta.verified  \\\n",
       "id                                                                            \n",
       "146743638.12652.12652                                   False          True   \n",
       "143890867.11926.11926                                    True          True   \n",
       "127296808.516.516                                       False          True   \n",
       "144643838.1236.1236                                      True          True   \n",
       "66813686.23567.23567                                    False          True   \n",
       "...                                                       ...           ...   \n",
       "16774729.0.0                                            False         False   \n",
       "462206585.21475.21475                                    True         False   \n",
       "426136415.11555.11555                                   False         False   \n",
       "136580720.181876.181876                                  True         False   \n",
       "132829693.152766.152766                                 False         False   \n",
       "\n",
       "                        meta.pair_verified meta.annotation_year meta.split  \n",
       "id                                                                          \n",
       "146743638.12652.12652                 True                 2018      train  \n",
       "143890867.11926.11926                 True                 2018      train  \n",
       "127296808.516.516                     True                 2018      train  \n",
       "144643838.1236.1236                   True                 2018      train  \n",
       "66813686.23567.23567                  True                 2018      train  \n",
       "...                                    ...                  ...        ...  \n",
       "16774729.0.0                         False                 2019      train  \n",
       "462206585.21475.21475                False                 2019      train  \n",
       "426136415.11555.11555                False                 2019      train  \n",
       "136580720.181876.181876              False                 2019       test  \n",
       "132829693.152766.152766              False                 2019       test  \n",
       "\n",
       "[4188 rows x 9 columns]"
      ]
     },
     "execution_count": 5,
     "metadata": {},
     "output_type": "execute_result"
    }
   ],
   "source": [
    "corpus.get_conversations_dataframe()"
   ]
  },
  {
   "cell_type": "code",
   "execution_count": 12,
   "metadata": {},
   "outputs": [
    {
     "data": {
      "text/plain": [
       "['146743638.12652.12652',\n",
       " '146743638.12667.12652',\n",
       " '146842219.12874.12874',\n",
       " '146860774.13072.13072']"
      ]
     },
     "execution_count": 12,
     "metadata": {},
     "output_type": "execute_result"
    }
   ],
   "source": [
    "corpus.get_conversation('146743638.12652.12652').get_utterance_ids()"
   ]
  },
  {
   "cell_type": "code",
   "execution_count": 22,
   "metadata": {},
   "outputs": [
    {
     "name": "stdout",
     "output_type": "stream",
     "text": [
      "== [WIKI_LINK: WP:COMMONNAME] ==\n",
      "\n",
      "I notice that earier that  moved wiki_link to Bill Chen citing wiki_link , then you reverted this change, Bill Chen doesn't commonly go by William, his book is even penned as Bill Chen. From what I read in WP:COMMONNAME PatrikR seems to be correct, Examples given are names such as: *wiki_link (not wiki_link) *wiki_link (not wiki_link) I think this revert may have been a mistake unless you know otherwise? ▪◦▪ \n",
      "Chen was known in the poker world as \"William\" for years before he became commonly known as \"Bill\".  I changed it back because incidences online including Usenet are roughly equal, nothing at all like Bill Clinton and William Clinton, and in equal cases using the real name seems the best choice.  (the external_link page is especially pschizo... Willam in the page title, Bill in the page text).  However I suppose the book is the trump card, so using the name on the book is probably best. \n",
      "I see what you saying I just read his pokerstars profile, It struck me when I saw the change because I remember him being called Bill when I watched the last season of high stakes poker, But you seem to have many more years experience in the Poker/Gambling world then I do(I'm still a bit of a newbie), so I wanted to check with you first. BTW as far as the WPT, I was thinking nine that made up final and 6 for the tv table, I read this article that say the WPT Final table is made up of 10 players, with the final six that make it on TV,  I just want to be sure that they are correct, when I update the players infobox stats, thanks ▪◦▪ \n"
     ]
    }
   ],
   "source": [
    "for u in corpus.get_conversation('146743638.12652.12652').iter_utterances():\n",
    "    print(u.text)"
   ]
  },
  {
   "cell_type": "code",
   "execution_count": 40,
   "metadata": {},
   "outputs": [
    {
     "data": {
      "text/plain": [
       "False"
      ]
     },
     "execution_count": 40,
     "metadata": {},
     "output_type": "execute_result"
    }
   ],
   "source": [
    "corpus.get_conversation('146743638.12652.12652').retrieve_meta('conversation_has_personal_attack')"
   ]
  },
  {
   "cell_type": "code",
   "execution_count": 52,
   "metadata": {},
   "outputs": [],
   "source": [
    "import pandas as pd\n",
    "import json"
   ]
  },
  {
   "cell_type": "code",
   "execution_count": 53,
   "metadata": {},
   "outputs": [],
   "source": [
    "raw_data = {\"Conversation\":[], 'Label':[]}\n",
    "ids = corpus.get_conversation_ids()"
   ]
  },
  {
   "cell_type": "code",
   "execution_count": 54,
   "metadata": {},
   "outputs": [],
   "source": [
    "for i in range(0, 418):\n",
    "    conv = 'A: '\n",
    "    flag = 0\n",
    "    for u in corpus.get_conversation(ids[i]).iter_utterances():\n",
    "        conv = conv + u.text + '\\n\\n'\n",
    "        if flag == 0:\n",
    "            conv += 'B: '\n",
    "            flag = 1\n",
    "        elif flag ==1:\n",
    "            conv += 'A: '\n",
    "            flag = 0\n",
    "            \n",
    "    raw_data['Conversation'].append(conv[:-4])\n",
    "    \n",
    "    raw_data['Label'].append(corpus.get_conversation('146743638.12652.12652').retrieve_meta('conversation_has_personal_attack'))\n",
    "    \n",
    "    "
   ]
  },
  {
   "cell_type": "code",
   "execution_count": 57,
   "metadata": {},
   "outputs": [],
   "source": [
    "data_f = pd.DataFrame.from_dict(raw_data)"
   ]
  },
  {
   "cell_type": "code",
   "execution_count": 58,
   "metadata": {},
   "outputs": [],
   "source": [
    "data_f.to_json('raw_data.json')"
   ]
  },
  {
   "cell_type": "code",
   "execution_count": 60,
   "metadata": {},
   "outputs": [],
   "source": [
    "with open('raw_data.json', 'r') as f:\n",
    "    a = json.load(f)"
   ]
  },
  {
   "cell_type": "code",
   "execution_count": 68,
   "metadata": {},
   "outputs": [
    {
     "name": "stdout",
     "output_type": "stream",
     "text": [
      "A: == [WIKI_LINK: WP:COMMONNAME] ==\n",
      "\n",
      "\n",
      "B: I notice that earier that  moved wiki_link to Bill Chen citing wiki_link , then you reverted this change, Bill Chen doesn't commonly go by William, his book is even penned as Bill Chen. From what I read in WP:COMMONNAME PatrikR seems to be correct, Examples given are names such as: *wiki_link (not wiki_link) *wiki_link (not wiki_link) I think this revert may have been a mistake unless you know otherwise? ▪◦▪ \n",
      "\n",
      "A: Chen was known in the poker world as \"William\" for years before he became commonly known as \"Bill\".  I changed it back because incidences online including Usenet are roughly equal, nothing at all like Bill Clinton and William Clinton, and in equal cases using the real name seems the best choice.  (the external_link page is especially pschizo... Willam in the page title, Bill in the page text).  However I suppose the book is the trump card, so using the name on the book is probably best. \n",
      "\n",
      "B: I see what you saying I just read his pokerstars profile, It struck me when I saw the change because I remember him being called Bill when I watched the last season of high stakes poker, But you seem to have many more years experience in the Poker/Gambling world then I do(I'm still a bit of a newbie), so I wanted to check with you first. BTW as far as the WPT, I was thinking nine that made up final and 6 for the tv table, I read this article that say the WPT Final table is made up of 10 players, with the final six that make it on TV,  I just want to be sure that they are correct, when I update the players infobox stats, thanks ▪◦▪ \n",
      "\n"
     ]
    }
   ],
   "source": [
    "print(raw_data['Conversation'][0])"
   ]
  },
  {
   "cell_type": "code",
   "execution_count": 69,
   "metadata": {},
   "outputs": [
    {
     "data": {
      "text/plain": [
       "2"
      ]
     },
     "execution_count": 69,
     "metadata": {},
     "output_type": "execute_result"
    }
   ],
   "source": [
    "len(a)"
   ]
  },
  {
   "cell_type": "code",
   "execution_count": null,
   "metadata": {},
   "outputs": [],
   "source": []
  }
 ],
 "metadata": {
  "kernelspec": {
   "display_name": "css_chatgpt",
   "language": "python",
   "name": "python3"
  },
  "language_info": {
   "codemirror_mode": {
    "name": "ipython",
    "version": 3
   },
   "file_extension": ".py",
   "mimetype": "text/x-python",
   "name": "python",
   "nbconvert_exporter": "python",
   "pygments_lexer": "ipython3",
   "version": "3.9.16"
  },
  "orig_nbformat": 4,
  "vscode": {
   "interpreter": {
    "hash": "5975e437b333d2765bab565adc1f823d2044310af1c5d870da247c114404337f"
   }
  }
 },
 "nbformat": 4,
 "nbformat_minor": 2
}
