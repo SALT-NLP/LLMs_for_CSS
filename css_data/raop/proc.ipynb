{
 "cells": [
  {
   "cell_type": "code",
   "execution_count": 1,
   "metadata": {},
   "outputs": [],
   "source": [
    "import pickle\n",
    "import pandas as pd\n",
    "# Open the file for reading\n",
    "with open('labeled_data.pkl', 'rb') as f:\n",
    "    # Load the object from the file\n",
    "    labeled_data = pickle.load(f)"
   ]
  },
  {
   "cell_type": "code",
   "execution_count": 2,
   "metadata": {},
   "outputs": [],
   "source": [
    "# Open the file for reading\n",
    "with open('label_mapping.pkl', 'rb') as f:\n",
    "    # Load the object from the file\n",
    "    label_mapping = pickle.load(f)"
   ]
  },
  {
   "cell_type": "code",
   "execution_count": 3,
   "metadata": {},
   "outputs": [],
   "source": [
    "def merge_labels(label_mapping):\n",
    "    # build an inverse mapping from the label_mapping pkl\n",
    "    inverse_label_mapping = {}\n",
    "    for key in label_mapping:\n",
    "        value = label_mapping[key] \n",
    "        if value in inverse_label_mapping:\n",
    "            inverse_label_mapping[value] = 0\n",
    "        else:\n",
    "            inverse_label_mapping[value] = key\n",
    "            \n",
    "    # select the subset that we use from all_strategies \n",
    "\n",
    "    return inverse_label_mapping\n",
    "\n",
    "inv_label_map = merge_labels(label_mapping)"
   ]
  },
  {
   "cell_type": "code",
   "execution_count": 4,
   "metadata": {},
   "outputs": [
    {
     "data": {
      "text/plain": [
       "{0: 0, 1: 0, 2: 1, 3: 2, 4: 0, 5: 3, 6: 0, 7: 4, 8: 5, 9: 6}"
      ]
     },
     "execution_count": 4,
     "metadata": {},
     "output_type": "execute_result"
    }
   ],
   "source": [
    "label_mapping"
   ]
  },
  {
   "cell_type": "code",
   "execution_count": 5,
   "metadata": {},
   "outputs": [
    {
     "data": {
      "text/plain": [
       "{0: 0, 1: 2, 2: 3, 3: 5, 4: 7, 5: 8, 6: 9}"
      ]
     },
     "execution_count": 5,
     "metadata": {},
     "output_type": "execute_result"
    }
   ],
   "source": [
    "inv_label_map"
   ]
  },
  {
   "cell_type": "code",
   "execution_count": 6,
   "metadata": {},
   "outputs": [],
   "source": [
    "label_text = {\n",
    "    0: \"Other\", \n",
    "    1: \"Credibility\", \n",
    "    2: \"Reciprocity\", \n",
    "    3: \"Evidence\", \n",
    "    4: \"Commitment\", \n",
    "    5: \"Scarcity\", \n",
    "    6: \"Social Identity\", \n",
    "    7: \"Emotion\", \n",
    "    8: \"Impact\", \n",
    "    9: \"Politeness\"\n",
    "}\n",
    "\n",
    "letter_map = {\n",
    "    \"Evidence\": \"A\",\n",
    "    \"Politeness\": \"B\",\n",
    "    \"Reciprocity\": \"C\",\n",
    "    \"Impact\": \"D\",\n",
    "    \"Emotion\": \"E\",\n",
    "    \"Scarcity\": \"F\",\n",
    "    \"Other\": \"G\"\n",
    "}"
   ]
  },
  {
   "cell_type": "code",
   "execution_count": 7,
   "metadata": {},
   "outputs": [],
   "source": [
    "final_dat = {\"labels\": [], \"sents\": []}\n",
    "for k in labeled_data:\n",
    "    remapped = [letter_map[label_text[inv_label_map[label_mapping[i]]]] for i in labeled_data[k][1]]\n",
    "    for label, sent in zip(remapped, labeled_data[k][0]):\n",
    "        final_dat[\"labels\"].append(label)\n",
    "        final_dat[\"sents\"].append(sent)\n"
   ]
  },
  {
   "cell_type": "code",
   "execution_count": 8,
   "metadata": {},
   "outputs": [],
   "source": [
    "ans = pd.DataFrame.from_dict(final_dat)\n",
    "ans.to_csv(\"raop.csv\")"
   ]
  }
 ],
 "metadata": {
  "kernelspec": {
   "display_name": "feedback",
   "language": "python",
   "name": "python3"
  },
  "language_info": {
   "codemirror_mode": {
    "name": "ipython",
    "version": 3
   },
   "file_extension": ".py",
   "mimetype": "text/x-python",
   "name": "python",
   "nbconvert_exporter": "python",
   "pygments_lexer": "ipython3",
   "version": "3.9.13"
  },
  "orig_nbformat": 4
 },
 "nbformat": 4,
 "nbformat_minor": 2
}
