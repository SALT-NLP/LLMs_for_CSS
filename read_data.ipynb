{
 "cells": [
  {
   "cell_type": "code",
   "execution_count": 1,
   "metadata": {},
   "outputs": [],
   "source": [
    "import json"
   ]
  },
  {
   "cell_type": "code",
   "execution_count": 2,
   "metadata": {},
   "outputs": [],
   "source": [
    "with open('./css_data/wiki-corpus/power.json', 'r') as f:\n",
    "    a = json.load(f)"
   ]
  },
  {
   "cell_type": "code",
   "execution_count": 3,
   "metadata": {},
   "outputs": [
    {
     "data": {
      "text/plain": [
       "dict_keys(['context', 'labels', 'prompts'])"
      ]
     },
     "execution_count": 3,
     "metadata": {},
     "output_type": "execute_result"
    }
   ],
   "source": [
    "a.keys()"
   ]
  },
  {
   "cell_type": "code",
   "execution_count": 4,
   "metadata": {},
   "outputs": [
    {
     "data": {
      "text/plain": [
       "'Johannes003: Yes, that\\'s good. Revathy\\'s page looked very reliable, that\\'s why we used that as a source. \\nJohannes003: Nagma\\'a site, at least that filmography page, looks like taken from Wikipedia itself. I didn\\'t remove it from time being, but I don\\'t think it\\'s true. \\nJohannes003: I don\\'t think there are many such official reliable sites left yet. The problem is most \\\\\"official sites\\\\\" are not really official, and often based on Wikipedia itself, and you don\\'t know what to believe and what not. We used Madras Talkies\\' page, which is dead now. [http:\\\\/\\\\/kavithalayaa.com\\\\/ Kavithalayaa]\\'s site is there, also AVM Production\\'s site might be useful perhaps, but I can\\'t enter that. Generally official sites of production houses seem to be very reliable ones. \\nMichael-Billa: Most of the so called \\\\\"official sites\\\\\" are maintained by fans or cinema based web companies. Not sure how reliable are they. <span style=\\\\\"color:green;font-size:small;;font-family:Segoe Print;\\\\\">-<i>B<\\\\/i>iLLa-<\\\\/span>'"
      ]
     },
     "execution_count": 4,
     "metadata": {},
     "output_type": "execute_result"
    }
   ],
   "source": [
    "a['context']['0']"
   ]
  },
  {
   "cell_type": "code",
   "execution_count": 5,
   "metadata": {},
   "outputs": [
    {
     "data": {
      "text/plain": [
       "False"
      ]
     },
     "execution_count": 5,
     "metadata": {},
     "output_type": "execute_result"
    }
   ],
   "source": [
    "a['labels']['0']"
   ]
  },
  {
   "cell_type": "code",
   "execution_count": 6,
   "metadata": {},
   "outputs": [
    {
     "data": {
      "text/plain": [
       "'Is Johannes003 an administrator (Yes or No)?'"
      ]
     },
     "execution_count": 6,
     "metadata": {},
     "output_type": "execute_result"
    }
   ],
   "source": [
    "a['prompts']['0']"
   ]
  },
  {
   "cell_type": "code",
   "execution_count": null,
   "metadata": {},
   "outputs": [],
   "source": []
  },
  {
   "cell_type": "code",
   "execution_count": null,
   "metadata": {},
   "outputs": [],
   "source": []
  }
 ],
 "metadata": {
  "kernelspec": {
   "display_name": "css_chatgpt",
   "language": "python",
   "name": "python3"
  },
  "language_info": {
   "codemirror_mode": {
    "name": "ipython",
    "version": 3
   },
   "file_extension": ".py",
   "mimetype": "text/x-python",
   "name": "python",
   "nbconvert_exporter": "python",
   "pygments_lexer": "ipython3",
   "version": "3.9.16"
  },
  "orig_nbformat": 4,
  "vscode": {
   "interpreter": {
    "hash": "5975e437b333d2765bab565adc1f823d2044310af1c5d870da247c114404337f"
   }
  }
 },
 "nbformat": 4,
 "nbformat_minor": 2
}
