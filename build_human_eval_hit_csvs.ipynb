{
 "cells": [
  {
   "cell_type": "markdown",
   "id": "cb882096",
   "metadata": {},
   "source": [
    "# SBIC"
   ]
  },
  {
   "cell_type": "code",
   "execution_count": 1,
   "id": "b4dd1be8",
   "metadata": {},
   "outputs": [],
   "source": [
    "import json, os, re\n",
    "import pandas as pd\n",
    "import numpy as np\n",
    "from glob import glob"
   ]
  },
  {
   "cell_type": "code",
   "execution_count": 2,
   "id": "a7a2818d",
   "metadata": {},
   "outputs": [],
   "source": [
    "TASK = \"css_data/sbic\"\n",
    "baseline = f\"{TASK}/T5-finetune-sbic_predict.json\"\n",
    "with open(baseline, \"r\") as infile:\n",
    "    base_json = json.load(infile)\n",
    "sbic = pd.read_csv('css_data/sbic/sbic.csv')"
   ]
  },
  {
   "cell_type": "code",
   "execution_count": 3,
   "id": "8a5f5e5a",
   "metadata": {},
   "outputs": [
    {
     "name": "stdout",
     "output_type": "stream",
     "text": [
      "\tnon-unique [\"trivializes harm to victims\"]\n",
      "no match [\"trivializes harm to victims\"]\n",
      "\tnon-unique [\"trivializes harm to victims\"]\n",
      "no match [\"trivializes harm to victims\"]\n",
      "\tnon-unique [\"trivializes harm to victims\"]\n",
      "no match [\"trivializes harm to victims\"]\n",
      "\tnon-unique [\"trivializes harm to victims.\"]\n",
      "no match [\"trivializes harm to victims.\"]\n",
      "\tnon-unique [\"trivializes harm to victims.\"]\n",
      "no match [\"trivializes harm to victims.\"]\n",
      "\tnon-unique [\"are marginalized for a joke\"]\n",
      "no match [\"are marginalized for a joke\"]\n",
      "\tnon-unique [\"trivializes harm to victims\"]\n",
      "no match [\"trivializes harm to victims\"]\n",
      "\tnon-unique [\"trivializes harm to victims\"]\n",
      "no match [\"trivializes harm to victims\"]\n",
      "\tnon-unique [\"trivializes harm to victims\"]\n",
      "no match [\"trivializes harm to victims\"]\n",
      "\tnon-unique [\"trivializes harm to victims\"]\n",
      "no match [\"trivializes harm to victims\"]\n",
      "\tnon-unique [\"trivializes harm to victims\"]\n",
      "no match [\"trivializes harm to victims\"]\n",
      "\tnon-unique [\"trivializes harm to victims.\"]\n",
      "no match [\"trivializes harm to victims.\"]\n"
     ]
    }
   ],
   "source": [
    "sbic_test = []\n",
    "for idx, lbl in enumerate(base_json['labels']):\n",
    "    pred = base_json['predictions'][idx]\n",
    "    pred = pred.split(\", \")[0].replace(\"[\", \"\").replace('\"', \"\")\n",
    "    consider = sbic[sbic[\"targetStereotype\"]==lbl].copy()\n",
    "    consider['Generated'] = pred\n",
    "    consider['Model'] = \"baseline\"\n",
    "    consider['Task'] = \"sbic\"\n",
    "    if len(consider)>1:\n",
    "        print(\"\\tnon-unique\", lbl)\n",
    "    if len(consider)==1:\n",
    "        sbic_test.append(consider)\n",
    "    else:\n",
    "        print(\"no match\", lbl)\n",
    "    #sbic_test.append(None)"
   ]
  },
  {
   "cell_type": "code",
   "execution_count": 4,
   "id": "e454b79b",
   "metadata": {},
   "outputs": [],
   "source": [
    "hit_df = pd.concat(sbic_test)[['post', 'targetStereotype', 'targetMinority', 'Generated', 'Model', 'Task']].sample(frac=1, random_state=7).copy()\n",
    "hit_df.to_csv('hit/input/sbic/sbic_baseline.csv', index=False)"
   ]
  },
  {
   "cell_type": "code",
   "execution_count": 5,
   "id": "182ac187",
   "metadata": {},
   "outputs": [
    {
     "name": "stdout",
     "output_type": "stream",
     "text": [
      "text-babbage-001\n",
      "\tno match [\"trivializes harm to victims\"]\n",
      "\tno match [\"trivializes harm to victims\"]\n",
      "\tno match [\"trivializes harm to victims\"]\n",
      "\tno match [\"trivializes harm to victims.\"]\n",
      "\tno match [\"trivializes harm to victims.\"]\n",
      "\tno match [\"are marginalized for a joke\"]\n",
      "\tno match [\"trivializes harm to victims\"]\n",
      "\tno match [\"trivializes harm to victims\"]\n",
      "\tno match [\"trivializes harm to victims\"]\n",
      "\tno match [\"trivializes harm to victims\"]\n",
      "\tno match [\"trivializes harm to victims\"]\n",
      "\tno match [\"trivializes harm to victims.\"]\n",
      "text-davinci-001\n",
      "\tno match [\"trivializes harm to victims\"]\n",
      "\tno match [\"trivializes harm to victims\"]\n",
      "\tno match [\"trivializes harm to victims\"]\n",
      "\tno match [\"trivializes harm to victims.\"]\n",
      "\tno match [\"trivializes harm to victims.\"]\n",
      "\tno match [\"are marginalized for a joke\"]\n",
      "\tno match [\"trivializes harm to victims\"]\n",
      "\tno match [\"trivializes harm to victims\"]\n",
      "\tno match [\"trivializes harm to victims\"]\n",
      "\tno match [\"trivializes harm to victims\"]\n",
      "\tno match [\"trivializes harm to victims\"]\n",
      "\tno match [\"trivializes harm to victims.\"]\n",
      "text-ada-001\n",
      "\tno match [\"trivializes harm to victims\"]\n",
      "\tno match [\"trivializes harm to victims\"]\n",
      "\tno match [\"trivializes harm to victims\"]\n",
      "\tno match [\"trivializes harm to victims.\"]\n",
      "\tno match [\"trivializes harm to victims.\"]\n",
      "\tno match [\"are marginalized for a joke\"]\n",
      "\tno match [\"trivializes harm to victims\"]\n",
      "\tno match [\"trivializes harm to victims\"]\n",
      "\tno match [\"trivializes harm to victims\"]\n",
      "\tno match [\"trivializes harm to victims\"]\n",
      "\tno match [\"trivializes harm to victims\"]\n",
      "\tno match [\"trivializes harm to victims.\"]\n",
      "chatgpt\n",
      "\tno match [\"trivializes harm to victims\"]\n",
      "\tno match [\"trivializes harm to victims\"]\n",
      "\tno match [\"trivializes harm to victims\"]\n",
      "\tno match [\"trivializes harm to victims.\"]\n",
      "\tno match [\"trivializes harm to victims.\"]\n",
      "\tno match [\"are marginalized for a joke\"]\n",
      "\tno match [\"trivializes harm to victims\"]\n",
      "\tno match [\"trivializes harm to victims\"]\n",
      "\tno match [\"trivializes harm to victims\"]\n",
      "\tno match [\"trivializes harm to victims\"]\n",
      "\tno match [\"trivializes harm to victims\"]\n",
      "\tno match [\"trivializes harm to victims.\"]\n",
      "flan-t5-xl\n",
      "\tno match [\"trivializes harm to victims\"]\n",
      "\tno match [\"trivializes harm to victims\"]\n",
      "\tno match [\"trivializes harm to victims\"]\n",
      "\tno match [\"trivializes harm to victims.\"]\n",
      "\tno match [\"trivializes harm to victims.\"]\n",
      "\tno match [\"are marginalized for a joke\"]\n",
      "\tno match [\"trivializes harm to victims\"]\n",
      "\tno match [\"trivializes harm to victims\"]\n",
      "\tno match [\"trivializes harm to victims\"]\n",
      "\tno match [\"trivializes harm to victims\"]\n",
      "\tno match [\"trivializes harm to victims\"]\n",
      "\tno match [\"trivializes harm to victims.\"]\n",
      "flan-t5-large\n",
      "\tno match [\"trivializes harm to victims\"]\n",
      "\tno match [\"trivializes harm to victims\"]\n",
      "\tno match [\"trivializes harm to victims\"]\n",
      "\tno match [\"trivializes harm to victims.\"]\n",
      "\tno match [\"trivializes harm to victims.\"]\n",
      "\tno match [\"are marginalized for a joke\"]\n",
      "\tno match [\"trivializes harm to victims\"]\n",
      "\tno match [\"trivializes harm to victims\"]\n",
      "\tno match [\"trivializes harm to victims\"]\n",
      "\tno match [\"trivializes harm to victims\"]\n",
      "\tno match [\"trivializes harm to victims\"]\n",
      "\tno match [\"trivializes harm to victims.\"]\n",
      "flan-t5-base\n",
      "\tno match [\"trivializes harm to victims\"]\n",
      "\tno match [\"trivializes harm to victims\"]\n",
      "\tno match [\"trivializes harm to victims\"]\n",
      "\tno match [\"trivializes harm to victims.\"]\n",
      "\tno match [\"trivializes harm to victims.\"]\n",
      "\tno match [\"are marginalized for a joke\"]\n",
      "\tno match [\"trivializes harm to victims\"]\n",
      "\tno match [\"trivializes harm to victims\"]\n",
      "\tno match [\"trivializes harm to victims\"]\n",
      "\tno match [\"trivializes harm to victims\"]\n",
      "\tno match [\"trivializes harm to victims\"]\n",
      "\tno match [\"trivializes harm to victims.\"]\n",
      "text-davinci-003\n",
      "\tno match [\"trivializes harm to victims\"]\n",
      "\tno match [\"trivializes harm to victims\"]\n",
      "\tno match [\"trivializes harm to victims\"]\n",
      "\tno match [\"trivializes harm to victims.\"]\n",
      "\tno match [\"trivializes harm to victims.\"]\n",
      "\tno match [\"are marginalized for a joke\"]\n",
      "\tno match [\"trivializes harm to victims\"]\n",
      "\tno match [\"trivializes harm to victims\"]\n",
      "\tno match [\"trivializes harm to victims\"]\n",
      "\tno match [\"trivializes harm to victims\"]\n",
      "\tno match [\"trivializes harm to victims\"]\n",
      "\tno match [\"trivializes harm to victims.\"]\n",
      "text-davinci-002\n",
      "\tno match [\"trivializes harm to victims\"]\n",
      "\tno match [\"trivializes harm to victims\"]\n",
      "\tno match [\"trivializes harm to victims\"]\n",
      "\tno match [\"trivializes harm to victims.\"]\n",
      "\tno match [\"trivializes harm to victims.\"]\n",
      "\tno match [\"are marginalized for a joke\"]\n",
      "\tno match [\"trivializes harm to victims\"]\n",
      "\tno match [\"trivializes harm to victims\"]\n",
      "\tno match [\"trivializes harm to victims\"]\n",
      "\tno match [\"trivializes harm to victims\"]\n",
      "\tno match [\"trivializes harm to victims\"]\n",
      "\tno match [\"trivializes harm to victims.\"]\n",
      "flan-t5-small\n",
      "\tno match [\"trivializes harm to victims\"]\n",
      "\tno match [\"trivializes harm to victims\"]\n",
      "\tno match [\"trivializes harm to victims\"]\n",
      "\tno match [\"trivializes harm to victims.\"]\n",
      "\tno match [\"trivializes harm to victims.\"]\n",
      "\tno match [\"are marginalized for a joke\"]\n",
      "\tno match [\"trivializes harm to victims\"]\n",
      "\tno match [\"trivializes harm to victims\"]\n",
      "\tno match [\"trivializes harm to victims\"]\n",
      "\tno match [\"trivializes harm to victims\"]\n",
      "\tno match [\"trivializes harm to victims\"]\n",
      "\tno match [\"trivializes harm to victims.\"]\n",
      "flan-t5-xxl\n",
      "\tno match [\"trivializes harm to victims\"]\n",
      "\tno match [\"trivializes harm to victims\"]\n",
      "\tno match [\"trivializes harm to victims\"]\n",
      "\tno match [\"trivializes harm to victims.\"]\n",
      "\tno match [\"trivializes harm to victims.\"]\n",
      "\tno match [\"are marginalized for a joke\"]\n",
      "\tno match [\"trivializes harm to victims\"]\n",
      "\tno match [\"trivializes harm to victims\"]\n",
      "\tno match [\"trivializes harm to victims\"]\n",
      "\tno match [\"trivializes harm to victims\"]\n",
      "\tno match [\"trivializes harm to victims\"]\n",
      "\tno match [\"trivializes harm to victims.\"]\n",
      "text-curie-001\n",
      "\tno match [\"trivializes harm to victims\"]\n",
      "\tno match [\"trivializes harm to victims\"]\n",
      "\tno match [\"trivializes harm to victims\"]\n",
      "\tno match [\"trivializes harm to victims.\"]\n",
      "\tno match [\"trivializes harm to victims.\"]\n",
      "\tno match [\"are marginalized for a joke\"]\n",
      "\tno match [\"trivializes harm to victims\"]\n",
      "\tno match [\"trivializes harm to victims\"]\n",
      "\tno match [\"trivializes harm to victims\"]\n",
      "\tno match [\"trivializes harm to victims\"]\n",
      "\tno match [\"trivializes harm to victims\"]\n",
      "\tno match [\"trivializes harm to victims.\"]\n"
     ]
    }
   ],
   "source": [
    "for fn in glob(\"css_data/sbic/answer*\"):\n",
    "    model = \"-\".join(fn.split(\"-\")[1:])\n",
    "    print(model)\n",
    "    df = pd.read_csv(fn, sep='\\t', names=['idx', 'targetStereotype', 'Generated'])\n",
    "    \n",
    "    sbic_test = []\n",
    "    for _, row in df.iterrows():\n",
    "        pred = row[\"Generated\"].replace(\"&\", \"\")\n",
    "        lbl = row[\"targetStereotype\"]\n",
    "        consider = sbic[sbic[\"targetStereotype\"]==lbl].copy()\n",
    "        consider['Generated'] = pred\n",
    "        consider['Model'] = model\n",
    "        consider['Task'] = \"sbic\"\n",
    "        if len(consider)==1:\n",
    "            sbic_test.append(consider)\n",
    "        else:\n",
    "            print(\"\\tno match\", lbl)\n",
    "    hit_df = pd.concat(sbic_test)[['post', 'targetStereotype', 'targetMinority', 'Generated', 'Model', 'Task']].sample(frac=1, random_state=7).copy()\n",
    "    hit_df.to_csv(f'hit/input/sbic/sbic_{model}.csv', index=False)"
   ]
  },
  {
   "cell_type": "markdown",
   "id": "72e2ac8e",
   "metadata": {},
   "source": [
    "# MRF"
   ]
  },
  {
   "cell_type": "code",
   "execution_count": 1,
   "id": "fa2712a0",
   "metadata": {},
   "outputs": [],
   "source": [
    "import json, os, re\n",
    "import pandas as pd\n",
    "import numpy as np\n",
    "from glob import glob"
   ]
  },
  {
   "cell_type": "code",
   "execution_count": 2,
   "id": "72e1881c",
   "metadata": {},
   "outputs": [],
   "source": [
    "TASK = \"css_data/mrf\"\n",
    "baseline = f\"{TASK}/T5-finetune-mrf-explain.json\"\n",
    "with open(baseline, \"r\") as infile:\n",
    "    base_json = json.load(infile)\n",
    "mrf = pd.read_csv('css_data/mrf/mrf.csv')"
   ]
  },
  {
   "cell_type": "code",
   "execution_count": 3,
   "id": "18679248",
   "metadata": {
    "scrolled": true
   },
   "outputs": [
    {
     "name": "stdout",
     "output_type": "stream",
     "text": [
      "\tnon-unique ['unknown intent']\n",
      "no match ['unknown intent']\n",
      "\tnon-unique ['unknown intent']\n",
      "no match ['unknown intent']\n",
      "\tnon-unique ['unknown intent']\n",
      "no match ['unknown intent']\n",
      "\tnon-unique ['unknown intent']\n",
      "no match ['unknown intent']\n",
      "\tnon-unique ['unknown intent']\n",
      "no match ['unknown intent']\n",
      "\tnon-unique ['unknown intent']\n",
      "no match ['unknown intent']\n",
      "\tnon-unique ['unknown intent']\n",
      "no match ['unknown intent']\n",
      "\tnon-unique ['unknown intent']\n",
      "no match ['unknown intent']\n",
      "\tnon-unique ['unknown intent']\n",
      "no match ['unknown intent']\n",
      "\tnon-unique ['unknown intent']\n",
      "no match ['unknown intent']\n",
      "\tnon-unique ['unknown intent']\n",
      "no match ['unknown intent']\n",
      "\tnon-unique ['unknown intent']\n",
      "no match ['unknown intent']\n",
      "\tnon-unique ['unknown intent']\n",
      "no match ['unknown intent']\n",
      "\tnon-unique ['unknown intent']\n",
      "no match ['unknown intent']\n",
      "\tnon-unique ['covid-19 is not real']\n",
      "no match ['covid-19 is not real']\n",
      "\tnon-unique ['unknown intent']\n",
      "no match ['unknown intent']\n",
      "\tnon-unique ['unknown intent']\n",
      "no match ['unknown intent']\n",
      "\tnon-unique ['unknown intent']\n",
      "no match ['unknown intent']\n",
      "\tnon-unique ['unknown intent']\n",
      "no match ['unknown intent']\n",
      "\tnon-unique ['unknown intent']\n",
      "no match ['unknown intent']\n",
      "\tnon-unique ['unknown intent']\n",
      "no match ['unknown intent']\n",
      "\tnon-unique ['covid-19 is not real']\n",
      "no match ['covid-19 is not real']\n"
     ]
    }
   ],
   "source": [
    "mrf_test = []\n",
    "for idx, lbl in enumerate(base_json['labels']):\n",
    "    pred = base_json['predictions'][idx]\n",
    "    pred = pred.split(\", \")[0].replace(\"[\", \"\").replace('\"', \"\")\n",
    "    consider = mrf[mrf[\"writer_intent\"]==lbl].copy()\n",
    "    consider['Generated'] = pred\n",
    "    consider['Model'] = \"baseline\"\n",
    "    consider['Task'] = \"mrf\"\n",
    "    consider['misinfo'] = consider['gold_label']\n",
    "    if len(consider)>1:\n",
    "        print(\"\\tnon-unique\", lbl)\n",
    "    if len(consider)==1:\n",
    "        mrf_test.append(consider)\n",
    "    else:\n",
    "        print(\"no match\", lbl)\n",
    "    #sbic_test.append(None)"
   ]
  },
  {
   "cell_type": "code",
   "execution_count": 4,
   "id": "ecddc392",
   "metadata": {},
   "outputs": [],
   "source": [
    "hit_df = pd.concat(mrf_test)[['headline', 'writer_intent', 'misinfo', 'Generated', 'Model', 'Task']].sample(frac=1, random_state=7).copy()\n",
    "hit_df.to_csv('hit/input/mrf/mrf_baseline.csv', index=False)"
   ]
  },
  {
   "cell_type": "code",
   "execution_count": 5,
   "id": "2be9d24a",
   "metadata": {},
   "outputs": [
    {
     "name": "stdout",
     "output_type": "stream",
     "text": [
      "flan-t5-base\n"
     ]
    },
    {
     "name": "stderr",
     "output_type": "stream",
     "text": [
      "/tmp/ipykernel_12327/3525949691.py:7: FutureWarning: The error_bad_lines argument has been deprecated and will be removed in a future version. Use on_bad_lines in the future.\n",
      "\n",
      "\n",
      "  df = pd.read_csv(fn, sep='\\t', names=['idx', 'writer_intent', 'Generated'], error_bad_lines=False)\n"
     ]
    },
    {
     "name": "stdout",
     "output_type": "stream",
     "text": [
      "chatgpt\n"
     ]
    },
    {
     "name": "stderr",
     "output_type": "stream",
     "text": [
      "/tmp/ipykernel_12327/3525949691.py:7: FutureWarning: The error_bad_lines argument has been deprecated and will be removed in a future version. Use on_bad_lines in the future.\n",
      "\n",
      "\n",
      "  df = pd.read_csv(fn, sep='\\t', names=['idx', 'writer_intent', 'Generated'], error_bad_lines=False)\n",
      "Skipping line 21: expected 3 fields, saw 4\n",
      "Skipping line 22: expected 3 fields, saw 4\n",
      "Skipping line 54: expected 3 fields, saw 4\n",
      "Skipping line 63: expected 3 fields, saw 4\n",
      "Skipping line 64: expected 3 fields, saw 4\n",
      "Skipping line 66: expected 3 fields, saw 5\n",
      "Skipping line 107: expected 3 fields, saw 4\n",
      "Skipping line 110: expected 3 fields, saw 5\n",
      "Skipping line 155: expected 3 fields, saw 4\n",
      "Skipping line 168: expected 3 fields, saw 4\n",
      "Skipping line 172: expected 3 fields, saw 4\n",
      "Skipping line 188: expected 3 fields, saw 4\n",
      "Skipping line 193: expected 3 fields, saw 4\n",
      "Skipping line 202: expected 3 fields, saw 4\n",
      "Skipping line 218: expected 3 fields, saw 4\n",
      "Skipping line 219: expected 3 fields, saw 5\n",
      "Skipping line 223: expected 3 fields, saw 4\n",
      "Skipping line 226: expected 3 fields, saw 4\n",
      "Skipping line 228: expected 3 fields, saw 4\n",
      "Skipping line 232: expected 3 fields, saw 4\n",
      "Skipping line 235: expected 3 fields, saw 4\n",
      "Skipping line 237: expected 3 fields, saw 4\n",
      "Skipping line 241: expected 3 fields, saw 4\n",
      "Skipping line 251: expected 3 fields, saw 4\n",
      "Skipping line 255: expected 3 fields, saw 4\n",
      "Skipping line 273: expected 3 fields, saw 4\n",
      "Skipping line 282: expected 3 fields, saw 4\n",
      "Skipping line 294: expected 3 fields, saw 4\n",
      "Skipping line 320: expected 3 fields, saw 4\n",
      "Skipping line 322: expected 3 fields, saw 4\n",
      "Skipping line 332: expected 3 fields, saw 6\n",
      "\n"
     ]
    },
    {
     "name": "stdout",
     "output_type": "stream",
     "text": [
      "flan-t5-base\n"
     ]
    },
    {
     "name": "stderr",
     "output_type": "stream",
     "text": [
      "/tmp/ipykernel_12327/3525949691.py:7: FutureWarning: The error_bad_lines argument has been deprecated and will be removed in a future version. Use on_bad_lines in the future.\n",
      "\n",
      "\n",
      "  df = pd.read_csv(fn, sep='\\t', names=['idx', 'writer_intent', 'Generated'], error_bad_lines=False)\n"
     ]
    },
    {
     "name": "stdout",
     "output_type": "stream",
     "text": [
      "text-ada-001\n",
      "\tno match The coronavirus vaccine will cause other more serious diseases to emerge, said Anthony Fauci. \t ['unknown intent']\n",
      "\tno match Otters Show How Predators Can Blunt Climate Damage \t ['unknown intent']\n",
      "\tno match New Evidence That the Ancient Climate Was Warmer than Today's  'Roman Warming was the warmest in the last 2,000 years' \t ['unknown intent']\n",
      "\tno match Punishing Companies For CO2 Emissions Won't Affect Temps, Climate \t ['unknown intent']\n",
      "\tno match Climate report warns of rising risk as U.N. pushes nations to take action \t ['unknown intent']\n"
     ]
    },
    {
     "name": "stderr",
     "output_type": "stream",
     "text": [
      "/tmp/ipykernel_12327/3525949691.py:7: FutureWarning: The error_bad_lines argument has been deprecated and will be removed in a future version. Use on_bad_lines in the future.\n",
      "\n",
      "\n",
      "  df = pd.read_csv(fn, sep='\\t', names=['idx', 'writer_intent', 'Generated'], error_bad_lines=False)\n"
     ]
    },
    {
     "name": "stdout",
     "output_type": "stream",
     "text": [
      "\tno match The end of total quarantine: the Cabinet of Ministers of Ukraine has just made a decision. \t ['unknown intent']\n",
      "\tno match 'The most significant climate legislation ever': How stimulus bill tackles warming planet \t ['unknown intent']\n",
      "\tno match No 10 and Treasury clash over spending on environmental agenda \t ['unknown intent']\n",
      "\tno match The Drilldown: Opposition disappointed with government's climate legislation \t ['unknown intent']\n",
      "\tno match Councils reporting thousands of 'climate-related' incidents, including flooding \t ['unknown intent']\n",
      "\tno match UK to make climate risk reports mandatory for large companies \t ['unknown intent']\n",
      "\tno match French schooner Tara sets sail on scientific mission to study climate change \t ['unknown intent']\n",
      "\tno match How climate change could benefit Russia \t ['covid-19 is not real']\n",
      "\tno match Monetary Expansion Yielding Diminishing Returns And An Environment Very Friendly To Gold \t ['unknown intent']\n",
      "\tno match Even under Trump, America did a better job at tackling the climate emergency than Canada did, says Green Party Leader Annamie Paul \t ['unknown intent']\n",
      "\tno match Pfizer vaccine has caused the death of six people \t ['unknown intent']\n",
      "\tno match Trump urged to send Paris climate plan to senate to block Biden \t ['unknown intent']\n",
      "\tno match Should the price of meat reflect its impact on the environment? \t ['unknown intent']\n",
      "\tno match Lidocaine is effective in the treatment of COVID-19. \t ['unknown intent']\n",
      "\tno match Ancient whale skeleton found in Thailand holds clues to climate change \t ['covid-19 is not real']\n",
      "text-davinci-002\n"
     ]
    },
    {
     "name": "stderr",
     "output_type": "stream",
     "text": [
      "/tmp/ipykernel_12327/3525949691.py:7: FutureWarning: The error_bad_lines argument has been deprecated and will be removed in a future version. Use on_bad_lines in the future.\n",
      "\n",
      "\n",
      "  df = pd.read_csv(fn, sep='\\t', names=['idx', 'writer_intent', 'Generated'], error_bad_lines=False)\n"
     ]
    },
    {
     "name": "stdout",
     "output_type": "stream",
     "text": [
      "text-babbage-001\n"
     ]
    },
    {
     "name": "stderr",
     "output_type": "stream",
     "text": [
      "/tmp/ipykernel_12327/3525949691.py:7: FutureWarning: The error_bad_lines argument has been deprecated and will be removed in a future version. Use on_bad_lines in the future.\n",
      "\n",
      "\n",
      "  df = pd.read_csv(fn, sep='\\t', names=['idx', 'writer_intent', 'Generated'], error_bad_lines=False)\n"
     ]
    },
    {
     "name": "stdout",
     "output_type": "stream",
     "text": [
      "flan-t5-small\n"
     ]
    },
    {
     "name": "stderr",
     "output_type": "stream",
     "text": [
      "/tmp/ipykernel_12327/3525949691.py:7: FutureWarning: The error_bad_lines argument has been deprecated and will be removed in a future version. Use on_bad_lines in the future.\n",
      "\n",
      "\n",
      "  df = pd.read_csv(fn, sep='\\t', names=['idx', 'writer_intent', 'Generated'], error_bad_lines=False)\n"
     ]
    },
    {
     "name": "stdout",
     "output_type": "stream",
     "text": [
      "text-ada-001\n",
      "flan-ul2\n"
     ]
    },
    {
     "name": "stderr",
     "output_type": "stream",
     "text": [
      "/tmp/ipykernel_12327/3525949691.py:7: FutureWarning: The error_bad_lines argument has been deprecated and will be removed in a future version. Use on_bad_lines in the future.\n",
      "\n",
      "\n",
      "  df = pd.read_csv(fn, sep='\\t', names=['idx', 'writer_intent', 'Generated'], error_bad_lines=False)\n",
      "/tmp/ipykernel_12327/3525949691.py:7: FutureWarning: The error_bad_lines argument has been deprecated and will be removed in a future version. Use on_bad_lines in the future.\n",
      "\n",
      "\n",
      "  df = pd.read_csv(fn, sep='\\t', names=['idx', 'writer_intent', 'Generated'], error_bad_lines=False)\n"
     ]
    },
    {
     "name": "stdout",
     "output_type": "stream",
     "text": [
      "flan-ul2\n"
     ]
    },
    {
     "name": "stderr",
     "output_type": "stream",
     "text": [
      "/tmp/ipykernel_12327/3525949691.py:7: FutureWarning: The error_bad_lines argument has been deprecated and will be removed in a future version. Use on_bad_lines in the future.\n",
      "\n",
      "\n",
      "  df = pd.read_csv(fn, sep='\\t', names=['idx', 'writer_intent', 'Generated'], error_bad_lines=False)\n"
     ]
    },
    {
     "name": "stdout",
     "output_type": "stream",
     "text": [
      "text-davinci-003\n"
     ]
    },
    {
     "name": "stderr",
     "output_type": "stream",
     "text": [
      "/tmp/ipykernel_12327/3525949691.py:7: FutureWarning: The error_bad_lines argument has been deprecated and will be removed in a future version. Use on_bad_lines in the future.\n",
      "\n",
      "\n",
      "  df = pd.read_csv(fn, sep='\\t', names=['idx', 'writer_intent', 'Generated'], error_bad_lines=False)\n"
     ]
    },
    {
     "name": "stdout",
     "output_type": "stream",
     "text": [
      "chatgpt\n"
     ]
    },
    {
     "name": "stderr",
     "output_type": "stream",
     "text": [
      "/tmp/ipykernel_12327/3525949691.py:7: FutureWarning: The error_bad_lines argument has been deprecated and will be removed in a future version. Use on_bad_lines in the future.\n",
      "\n",
      "\n",
      "  df = pd.read_csv(fn, sep='\\t', names=['idx', 'writer_intent', 'Generated'], error_bad_lines=False)\n"
     ]
    },
    {
     "name": "stdout",
     "output_type": "stream",
     "text": [
      "text-babbage-001\n"
     ]
    },
    {
     "name": "stderr",
     "output_type": "stream",
     "text": [
      "/tmp/ipykernel_12327/3525949691.py:7: FutureWarning: The error_bad_lines argument has been deprecated and will be removed in a future version. Use on_bad_lines in the future.\n",
      "\n",
      "\n",
      "  df = pd.read_csv(fn, sep='\\t', names=['idx', 'writer_intent', 'Generated'], error_bad_lines=False)\n"
     ]
    },
    {
     "name": "stdout",
     "output_type": "stream",
     "text": [
      "flan-t5-small\n"
     ]
    },
    {
     "name": "stderr",
     "output_type": "stream",
     "text": [
      "/tmp/ipykernel_12327/3525949691.py:7: FutureWarning: The error_bad_lines argument has been deprecated and will be removed in a future version. Use on_bad_lines in the future.\n",
      "\n",
      "\n",
      "  df = pd.read_csv(fn, sep='\\t', names=['idx', 'writer_intent', 'Generated'], error_bad_lines=False)\n"
     ]
    },
    {
     "name": "stdout",
     "output_type": "stream",
     "text": [
      "text-davinci-001\n"
     ]
    },
    {
     "name": "stderr",
     "output_type": "stream",
     "text": [
      "/tmp/ipykernel_12327/3525949691.py:7: FutureWarning: The error_bad_lines argument has been deprecated and will be removed in a future version. Use on_bad_lines in the future.\n",
      "\n",
      "\n",
      "  df = pd.read_csv(fn, sep='\\t', names=['idx', 'writer_intent', 'Generated'], error_bad_lines=False)\n"
     ]
    },
    {
     "name": "stdout",
     "output_type": "stream",
     "text": [
      "flan-t5-xxl\n"
     ]
    },
    {
     "name": "stderr",
     "output_type": "stream",
     "text": [
      "/tmp/ipykernel_12327/3525949691.py:7: FutureWarning: The error_bad_lines argument has been deprecated and will be removed in a future version. Use on_bad_lines in the future.\n",
      "\n",
      "\n",
      "  df = pd.read_csv(fn, sep='\\t', names=['idx', 'writer_intent', 'Generated'], error_bad_lines=False)\n"
     ]
    },
    {
     "name": "stdout",
     "output_type": "stream",
     "text": [
      "flan-t5-large\n"
     ]
    },
    {
     "name": "stderr",
     "output_type": "stream",
     "text": [
      "/tmp/ipykernel_12327/3525949691.py:7: FutureWarning: The error_bad_lines argument has been deprecated and will be removed in a future version. Use on_bad_lines in the future.\n",
      "\n",
      "\n",
      "  df = pd.read_csv(fn, sep='\\t', names=['idx', 'writer_intent', 'Generated'], error_bad_lines=False)\n"
     ]
    },
    {
     "name": "stdout",
     "output_type": "stream",
     "text": [
      "text-curie-001\n"
     ]
    },
    {
     "name": "stderr",
     "output_type": "stream",
     "text": [
      "/tmp/ipykernel_12327/3525949691.py:7: FutureWarning: The error_bad_lines argument has been deprecated and will be removed in a future version. Use on_bad_lines in the future.\n",
      "\n",
      "\n",
      "  df = pd.read_csv(fn, sep='\\t', names=['idx', 'writer_intent', 'Generated'], error_bad_lines=False)\n"
     ]
    },
    {
     "name": "stdout",
     "output_type": "stream",
     "text": [
      "flan-t5-xl\n"
     ]
    },
    {
     "name": "stderr",
     "output_type": "stream",
     "text": [
      "/tmp/ipykernel_12327/3525949691.py:7: FutureWarning: The error_bad_lines argument has been deprecated and will be removed in a future version. Use on_bad_lines in the future.\n",
      "\n",
      "\n",
      "  df = pd.read_csv(fn, sep='\\t', names=['idx', 'writer_intent', 'Generated'], error_bad_lines=False)\n"
     ]
    },
    {
     "name": "stdout",
     "output_type": "stream",
     "text": [
      "flan-t5-large\n"
     ]
    },
    {
     "name": "stderr",
     "output_type": "stream",
     "text": [
      "/tmp/ipykernel_12327/3525949691.py:7: FutureWarning: The error_bad_lines argument has been deprecated and will be removed in a future version. Use on_bad_lines in the future.\n",
      "\n",
      "\n",
      "  df = pd.read_csv(fn, sep='\\t', names=['idx', 'writer_intent', 'Generated'], error_bad_lines=False)\n"
     ]
    },
    {
     "name": "stdout",
     "output_type": "stream",
     "text": [
      "text-davinci-001\n"
     ]
    },
    {
     "name": "stderr",
     "output_type": "stream",
     "text": [
      "/tmp/ipykernel_12327/3525949691.py:7: FutureWarning: The error_bad_lines argument has been deprecated and will be removed in a future version. Use on_bad_lines in the future.\n",
      "\n",
      "\n",
      "  df = pd.read_csv(fn, sep='\\t', names=['idx', 'writer_intent', 'Generated'], error_bad_lines=False)\n"
     ]
    },
    {
     "name": "stdout",
     "output_type": "stream",
     "text": [
      "text-davinci-003\n"
     ]
    },
    {
     "name": "stderr",
     "output_type": "stream",
     "text": [
      "/tmp/ipykernel_12327/3525949691.py:7: FutureWarning: The error_bad_lines argument has been deprecated and will be removed in a future version. Use on_bad_lines in the future.\n",
      "\n",
      "\n",
      "  df = pd.read_csv(fn, sep='\\t', names=['idx', 'writer_intent', 'Generated'], error_bad_lines=False)\n"
     ]
    },
    {
     "name": "stdout",
     "output_type": "stream",
     "text": [
      "flan-t5-xl\n"
     ]
    },
    {
     "name": "stderr",
     "output_type": "stream",
     "text": [
      "/tmp/ipykernel_12327/3525949691.py:7: FutureWarning: The error_bad_lines argument has been deprecated and will be removed in a future version. Use on_bad_lines in the future.\n",
      "\n",
      "\n",
      "  df = pd.read_csv(fn, sep='\\t', names=['idx', 'writer_intent', 'Generated'], error_bad_lines=False)\n"
     ]
    },
    {
     "name": "stdout",
     "output_type": "stream",
     "text": [
      "flan-t5-xxl\n"
     ]
    },
    {
     "name": "stderr",
     "output_type": "stream",
     "text": [
      "/tmp/ipykernel_12327/3525949691.py:7: FutureWarning: The error_bad_lines argument has been deprecated and will be removed in a future version. Use on_bad_lines in the future.\n",
      "\n",
      "\n",
      "  df = pd.read_csv(fn, sep='\\t', names=['idx', 'writer_intent', 'Generated'], error_bad_lines=False)\n"
     ]
    },
    {
     "name": "stdout",
     "output_type": "stream",
     "text": [
      "text-curie-001\n"
     ]
    },
    {
     "name": "stderr",
     "output_type": "stream",
     "text": [
      "/tmp/ipykernel_12327/3525949691.py:7: FutureWarning: The error_bad_lines argument has been deprecated and will be removed in a future version. Use on_bad_lines in the future.\n",
      "\n",
      "\n",
      "  df = pd.read_csv(fn, sep='\\t', names=['idx', 'writer_intent', 'Generated'], error_bad_lines=False)\n"
     ]
    },
    {
     "name": "stdout",
     "output_type": "stream",
     "text": [
      "text-davinci-002\n"
     ]
    },
    {
     "name": "stderr",
     "output_type": "stream",
     "text": [
      "/tmp/ipykernel_12327/3525949691.py:7: FutureWarning: The error_bad_lines argument has been deprecated and will be removed in a future version. Use on_bad_lines in the future.\n",
      "\n",
      "\n",
      "  df = pd.read_csv(fn, sep='\\t', names=['idx', 'writer_intent', 'Generated'], error_bad_lines=False)\n"
     ]
    }
   ],
   "source": [
    "for fn in glob(\"css_data/mrf/answer*\"):\n",
    "    model = \"-\".join(fn.split(\"-\")[2:])\n",
    "    print(model)\n",
    "    with open(f\"css_data/mrf/prompts.json-explanation-{model}\", \"r\") as f:\n",
    "        prompts = json.load(f)\n",
    "        \n",
    "    df = pd.read_csv(fn, sep='\\t', names=['idx', 'writer_intent', 'Generated'], error_bad_lines=False)\n",
    "\n",
    "    mrf_test = []\n",
    "    for _, row in df.iterrows():\n",
    "        if type(row[\"Generated\"])==str:\n",
    "            pred = row[\"Generated\"].replace(\"&\", \"\")\n",
    "            headline = \"\"\n",
    "            if str(row[\"idx\"]) in prompts:\n",
    "                headline = prompts[str(row[\"idx\"])].split('\\n')[0].strip()\n",
    "            \n",
    "            lbl = row[\"writer_intent\"]\n",
    "            consider = mrf[mrf[\"headline\"]==headline].copy()\n",
    "            \n",
    "            if (not len(consider)) or (consider[\"writer_intent\"].iloc[0]!=lbl):\n",
    "                consider = mrf[mrf[\"writer_intent\"]==lbl].copy()\n",
    "            \n",
    "            consider['Generated'] = pred\n",
    "            consider['Model'] = model\n",
    "            consider['Task'] = \"mrf\"\n",
    "            consider['misinfo'] = consider['gold_label']\n",
    "            \n",
    "            if len(consider)==1:\n",
    "                if consider[\"writer_intent\"].iloc[0]==lbl:\n",
    "                    mrf_test.append(consider)\n",
    "                else:\n",
    "                    print(\"Mismatch\", model, row[\"idx\"])\n",
    "                    break\n",
    "            elif len(consider)>1:\n",
    "                print(\"\\tno match\", headline, '\\t', lbl)\n",
    "            else:\n",
    "                pass\n",
    "    if len(mrf_test):\n",
    "        hit_df = pd.concat(mrf_test)[['headline', 'writer_intent', 'misinfo', 'Generated', 'Model', 'Task']].sample(frac=1, random_state=7).copy()\n",
    "        hit_df.to_csv(f'hit/input/mrf/mrf_{model}.csv', index=False)\n",
    "    \n",
    "    "
   ]
  },
  {
   "cell_type": "code",
   "execution_count": null,
   "id": "3f65fe53",
   "metadata": {},
   "outputs": [],
   "source": [
    "q = \"'Buddha would be green': Dalai Lama calls for urgent climate action\"\n",
    "mrf[mrf['headline']==q]"
   ]
  },
  {
   "cell_type": "code",
   "execution_count": 7,
   "id": "47ed18f6",
   "metadata": {},
   "outputs": [],
   "source": [
    "for _, row in df.iterrows():\n",
    "    pred = row[\"Generated\"].replace(\"&\", \"\")\n",
    "    lbl = prompts[str(row[\"idx\"])].split('\\n')[0].strip()\n",
    "    break"
   ]
  },
  {
   "cell_type": "code",
   "execution_count": 12,
   "id": "8e3b3ef3",
   "metadata": {},
   "outputs": [
    {
     "data": {
      "text/plain": [
       "('Some people are reporting delays in getting the flu vaccine in Texas',\n",
       " 'Texas sees delays amid push for faster vaccine rollout')"
      ]
     },
     "execution_count": 12,
     "metadata": {},
     "output_type": "execute_result"
    }
   ],
   "source": [
    "pred, lbl"
   ]
  },
  {
   "cell_type": "markdown",
   "id": "a149c7bd",
   "metadata": {},
   "source": [
    "# FLUTE"
   ]
  },
  {
   "cell_type": "code",
   "execution_count": 1,
   "id": "41c1f892",
   "metadata": {},
   "outputs": [],
   "source": [
    "import json, os, re\n",
    "import pandas as pd\n",
    "import numpy as np\n",
    "from glob import glob"
   ]
  },
  {
   "cell_type": "code",
   "execution_count": 2,
   "id": "d9c2a19a",
   "metadata": {},
   "outputs": [],
   "source": [
    "def get_premise_hypothesis(txt):\n",
    "    premises = re.findall(r\"premise: (.*?)(?:\\n|$|hypothesis)\", txt)\n",
    "    hypotheses = re.findall(r\"hypothesis: (.*?)(?:\\n|$|premise)\", txt)\n",
    "    premise, hypothesis = \"\", \"\"\n",
    "    if len(premises):\n",
    "        premise = premises[0]\n",
    "    if len(hypotheses):\n",
    "        hypothesis = hypotheses[0]\n",
    "    return premise.strip(), hypothesis.strip()"
   ]
  },
  {
   "cell_type": "code",
   "execution_count": 3,
   "id": "17cef6d7",
   "metadata": {},
   "outputs": [],
   "source": [
    "TASK = \"css_data/flute\"\n",
    "baseline = f\"{TASK}/T5-finetune-flute_predict.json\"\n",
    "with open(baseline, \"r\") as infile:\n",
    "    base_json = json.load(infile)\n",
    "with open(\"css_data/flute/flute-explanation.json\", \"r\") as f:\n",
    "    flute = pd.DataFrame.from_dict(json.load(f))"
   ]
  },
  {
   "cell_type": "code",
   "execution_count": 4,
   "id": "26bc2632",
   "metadata": {},
   "outputs": [],
   "source": [
    "premises = []\n",
    "hypotheses = []\n",
    "for c in flute.context.values:\n",
    "    p, h = get_premise_hypothesis(c)\n",
    "    premises.append(p)\n",
    "    hypotheses.append(h)\n",
    "flute[\"premise\"] = premises\n",
    "flute[\"hypothesis\"] = hypotheses"
   ]
  },
  {
   "cell_type": "code",
   "execution_count": 5,
   "id": "c482ab2d",
   "metadata": {},
   "outputs": [],
   "source": [
    "flute_test = []\n",
    "for idx, lbl in enumerate(base_json['labels']):\n",
    "    pred = base_json['predictions'][idx]\n",
    "    pred_label, pred_expl = re.split(r\"[&]+\", pred)\n",
    "    lbl_label, lbl_expl = re.split(r\"[&]+\", lbl)\n",
    "    \n",
    "    consider = flute[flute[\"additional_labels\"]==lbl_expl].copy()\n",
    "    consider['Generated'] = pred_expl\n",
    "    consider['Generated_Label'] = pred_label\n",
    "    consider['Model'] = \"baseline\"\n",
    "    consider['Task'] = \"flute\"\n",
    "    if len(consider)>0:\n",
    "        flute_test.append(consider.iloc[0:1])\n",
    "    else:\n",
    "        print(\"no match\", lbl)\n",
    "    #sbic_test.append(None)"
   ]
  },
  {
   "cell_type": "code",
   "execution_count": 6,
   "id": "5329f94e",
   "metadata": {},
   "outputs": [],
   "source": [
    "hit_df = pd.concat(flute_test)[['premise', 'hypothesis', 'labels', 'additional_labels', 'Generated', 'Generated_Label', 'Model', 'Task']].sample(frac=1, random_state=7).copy()\n",
    "hit_df.to_csv('hit/input/flute/flute_baseline.csv', index=False)"
   ]
  },
  {
   "cell_type": "code",
   "execution_count": 7,
   "id": "7d1e5af0",
   "metadata": {},
   "outputs": [
    {
     "name": "stdout",
     "output_type": "stream",
     "text": [
      "flan-t5-xl\n"
     ]
    },
    {
     "name": "stderr",
     "output_type": "stream",
     "text": [
      "/var/folders/n8/75mnzw2x6cx0xz_xksht7szr0000gq/T/ipykernel_53724/2080277674.py:7: FutureWarning: The error_bad_lines argument has been deprecated and will be removed in a future version. Use on_bad_lines in the future.\n",
      "\n",
      "\n",
      "  df = pd.read_csv(fn, sep='\\t', names=['idx', 'writer_intent', 'Generated'], error_bad_lines=False)\n"
     ]
    },
    {
     "name": "stdout",
     "output_type": "stream",
     "text": [
      "text-curie-001\n"
     ]
    },
    {
     "name": "stderr",
     "output_type": "stream",
     "text": [
      "/var/folders/n8/75mnzw2x6cx0xz_xksht7szr0000gq/T/ipykernel_53724/2080277674.py:7: FutureWarning: The error_bad_lines argument has been deprecated and will be removed in a future version. Use on_bad_lines in the future.\n",
      "\n",
      "\n",
      "  df = pd.read_csv(fn, sep='\\t', names=['idx', 'writer_intent', 'Generated'], error_bad_lines=False)\n"
     ]
    },
    {
     "name": "stdout",
     "output_type": "stream",
     "text": [
      "flan-t5-base\n"
     ]
    },
    {
     "name": "stderr",
     "output_type": "stream",
     "text": [
      "/var/folders/n8/75mnzw2x6cx0xz_xksht7szr0000gq/T/ipykernel_53724/2080277674.py:7: FutureWarning: The error_bad_lines argument has been deprecated and will be removed in a future version. Use on_bad_lines in the future.\n",
      "\n",
      "\n",
      "  df = pd.read_csv(fn, sep='\\t', names=['idx', 'writer_intent', 'Generated'], error_bad_lines=False)\n"
     ]
    },
    {
     "name": "stdout",
     "output_type": "stream",
     "text": [
      "text-davinci-003\n"
     ]
    },
    {
     "name": "stderr",
     "output_type": "stream",
     "text": [
      "/var/folders/n8/75mnzw2x6cx0xz_xksht7szr0000gq/T/ipykernel_53724/2080277674.py:7: FutureWarning: The error_bad_lines argument has been deprecated and will be removed in a future version. Use on_bad_lines in the future.\n",
      "\n",
      "\n",
      "  df = pd.read_csv(fn, sep='\\t', names=['idx', 'writer_intent', 'Generated'], error_bad_lines=False)\n"
     ]
    },
    {
     "name": "stdout",
     "output_type": "stream",
     "text": [
      "text-davinci-002\n"
     ]
    },
    {
     "name": "stderr",
     "output_type": "stream",
     "text": [
      "/var/folders/n8/75mnzw2x6cx0xz_xksht7szr0000gq/T/ipykernel_53724/2080277674.py:7: FutureWarning: The error_bad_lines argument has been deprecated and will be removed in a future version. Use on_bad_lines in the future.\n",
      "\n",
      "\n",
      "  df = pd.read_csv(fn, sep='\\t', names=['idx', 'writer_intent', 'Generated'], error_bad_lines=False)\n"
     ]
    },
    {
     "name": "stdout",
     "output_type": "stream",
     "text": [
      "flan-t5-large\n"
     ]
    },
    {
     "name": "stderr",
     "output_type": "stream",
     "text": [
      "/var/folders/n8/75mnzw2x6cx0xz_xksht7szr0000gq/T/ipykernel_53724/2080277674.py:7: FutureWarning: The error_bad_lines argument has been deprecated and will be removed in a future version. Use on_bad_lines in the future.\n",
      "\n",
      "\n",
      "  df = pd.read_csv(fn, sep='\\t', names=['idx', 'writer_intent', 'Generated'], error_bad_lines=False)\n"
     ]
    },
    {
     "name": "stdout",
     "output_type": "stream",
     "text": [
      "flan-t5-small\n"
     ]
    },
    {
     "name": "stderr",
     "output_type": "stream",
     "text": [
      "/var/folders/n8/75mnzw2x6cx0xz_xksht7szr0000gq/T/ipykernel_53724/2080277674.py:7: FutureWarning: The error_bad_lines argument has been deprecated and will be removed in a future version. Use on_bad_lines in the future.\n",
      "\n",
      "\n",
      "  df = pd.read_csv(fn, sep='\\t', names=['idx', 'writer_intent', 'Generated'], error_bad_lines=False)\n"
     ]
    },
    {
     "name": "stdout",
     "output_type": "stream",
     "text": [
      "text-davinci-001\n"
     ]
    },
    {
     "name": "stderr",
     "output_type": "stream",
     "text": [
      "/var/folders/n8/75mnzw2x6cx0xz_xksht7szr0000gq/T/ipykernel_53724/2080277674.py:7: FutureWarning: The error_bad_lines argument has been deprecated and will be removed in a future version. Use on_bad_lines in the future.\n",
      "\n",
      "\n",
      "  df = pd.read_csv(fn, sep='\\t', names=['idx', 'writer_intent', 'Generated'], error_bad_lines=False)\n"
     ]
    },
    {
     "name": "stdout",
     "output_type": "stream",
     "text": [
      "text-babbage-001\n"
     ]
    },
    {
     "name": "stderr",
     "output_type": "stream",
     "text": [
      "/var/folders/n8/75mnzw2x6cx0xz_xksht7szr0000gq/T/ipykernel_53724/2080277674.py:7: FutureWarning: The error_bad_lines argument has been deprecated and will be removed in a future version. Use on_bad_lines in the future.\n",
      "\n",
      "\n",
      "  df = pd.read_csv(fn, sep='\\t', names=['idx', 'writer_intent', 'Generated'], error_bad_lines=False)\n"
     ]
    },
    {
     "name": "stdout",
     "output_type": "stream",
     "text": [
      "text-ada-001\n"
     ]
    },
    {
     "name": "stderr",
     "output_type": "stream",
     "text": [
      "/var/folders/n8/75mnzw2x6cx0xz_xksht7szr0000gq/T/ipykernel_53724/2080277674.py:7: FutureWarning: The error_bad_lines argument has been deprecated and will be removed in a future version. Use on_bad_lines in the future.\n",
      "\n",
      "\n",
      "  df = pd.read_csv(fn, sep='\\t', names=['idx', 'writer_intent', 'Generated'], error_bad_lines=False)\n"
     ]
    },
    {
     "name": "stdout",
     "output_type": "stream",
     "text": [
      "chatgpt\n"
     ]
    },
    {
     "name": "stderr",
     "output_type": "stream",
     "text": [
      "/var/folders/n8/75mnzw2x6cx0xz_xksht7szr0000gq/T/ipykernel_53724/2080277674.py:7: FutureWarning: The error_bad_lines argument has been deprecated and will be removed in a future version. Use on_bad_lines in the future.\n",
      "\n",
      "\n",
      "  df = pd.read_csv(fn, sep='\\t', names=['idx', 'writer_intent', 'Generated'], error_bad_lines=False)\n"
     ]
    }
   ],
   "source": [
    "for fn in glob(\"css_data/flute/answer-explain*\"):\n",
    "    model = \"-\".join(fn.split(\"-\")[2:])\n",
    "    print(model)\n",
    "    with open(f\"css_data/flute/prompts.json-explanation-{model}\", \"r\") as f:\n",
    "        prompts = json.load(f)\n",
    "        \n",
    "    df = pd.read_csv(fn, sep='\\t', names=['idx', 'writer_intent', 'Generated'], error_bad_lines=False)\n",
    "\n",
    "    flute_test = []\n",
    "    for _, row in df.iterrows():\n",
    "        if type(row[\"Generated\"])==str:\n",
    "            pred = row[\"Generated\"].replace(\"&\", \"\")\n",
    "            if str(row[\"idx\"]) in prompts:\n",
    "                prompt = prompts[str(row[\"idx\"])]\n",
    "                p, h = get_premise_hypothesis(prompt)\n",
    "                consider = flute[(flute[\"premise\"]==p) & (flute[\"hypothesis\"]==h)].copy() \n",
    "\n",
    "                consider['Generated'] = pred\n",
    "                consider['Model'] = model\n",
    "                consider['Task'] = \"flute\"\n",
    "\n",
    "                if len(consider)>0:\n",
    "                    flute_test.append(consider.iloc[0:1])\n",
    "                else:\n",
    "                    print(\"\\tno match\", p, '\\t', h)\n",
    "            else:\n",
    "                print(\"Misaligned\", model)\n",
    "                break\n",
    "    if len(flute_test):\n",
    "        hit_df = pd.concat(flute_test)[['premise', 'hypothesis', 'labels', 'additional_labels', 'Generated', 'Model', 'Task']].sample(frac=1, random_state=7).copy()\n",
    "        hit_df.to_csv(f'hit/input/flute/flute_{model}.csv', index=False)"
   ]
  },
  {
   "cell_type": "code",
   "execution_count": null,
   "id": "9896be69",
   "metadata": {},
   "outputs": [],
   "source": []
  }
 ],
 "metadata": {
  "kernelspec": {
   "display_name": "Python 3 (ipykernel)",
   "language": "python",
   "name": "python3"
  },
  "language_info": {
   "codemirror_mode": {
    "name": "ipython",
    "version": 3
   },
   "file_extension": ".py",
   "mimetype": "text/x-python",
   "name": "python",
   "nbconvert_exporter": "python",
   "pygments_lexer": "ipython3",
   "version": "3.9.16"
  }
 },
 "nbformat": 4,
 "nbformat_minor": 5
}
